{
 "cells": [
  {
   "cell_type": "code",
   "execution_count": 6,
   "metadata": {},
   "outputs": [
    {
     "name": "stdout",
     "output_type": "stream",
     "text": [
      "[[  1  20   3 400   5]\n",
      " [  3   5   7   9  11]]\n",
      "400\n",
      "1\n",
      "3\n",
      "0\n",
      "[  1  20   3 400   5   3   5   7   9  11]\n",
      "[[  1  20   3 400   5]\n",
      " [  3   5   7   9  11]]\n",
      "[[  1  20   3 400   5]\n",
      " [  3   5   7   9  11]]\n"
     ]
    }
   ],
   "source": [
    "import numpy as np\n",
    "x = [[1,20,3,400,5], [3,5,7,9,11]]\n",
    "y = np.array(x)\n",
    "\n",
    "print(y)\n",
    "print(y.max())\n",
    "print(y.min())\n",
    "print(y.argmax())\n",
    "print(y.argmin())\n",
    "print(y.reshape(-1))\n",
    "print(y.reshape(2,-1))\n",
    "# print(y.reshape(2,5))"
   ]
  },
  {
   "cell_type": "code",
   "execution_count": 7,
   "metadata": {},
   "outputs": [
    {
     "name": "stdout",
     "output_type": "stream",
     "text": [
      "[[1 2 3]\n",
      " [4 5 6]]\n"
     ]
    }
   ],
   "source": [
    "a = np.array([[1,2,3], [4,5,6]])\n",
    "b = np.array([[0,0,0], [0,0,0]])\n",
    "print(a+b)"
   ]
  },
  {
   "cell_type": "code",
   "execution_count": 11,
   "metadata": {},
   "outputs": [
    {
     "name": "stdout",
     "output_type": "stream",
     "text": [
      "[[0 0 0]\n",
      " [0 0 0]]\n"
     ]
    }
   ],
   "source": [
    "# vector identitas penjumlahan dan pengurangan\n",
    "c = np.zeros((2,3), dtype='int32')\n",
    "print(c)"
   ]
  },
  {
   "cell_type": "code",
   "execution_count": 15,
   "metadata": {},
   "outputs": [
    {
     "data": {
      "text/plain": [
       "array([[1, 1, 1],\n",
       "       [1, 1, 1]])"
      ]
     },
     "execution_count": 15,
     "metadata": {},
     "output_type": "execute_result"
    }
   ],
   "source": [
    "d = np.ones((2,3), dtype='int32')\n",
    "d"
   ]
  },
  {
   "cell_type": "code",
   "execution_count": 19,
   "metadata": {
    "scrolled": true
   },
   "outputs": [
    {
     "name": "stdout",
     "output_type": "stream",
     "text": [
      "[[False False False]\n",
      " [False False False]\n",
      " [False False False]]\n",
      "[[ True  True  True]\n",
      " [ True  True  True]\n",
      " [ True  True  True]]\n",
      "[['Andi' 'Andi' 'Andi']\n",
      " ['Andi' 'Andi' 'Andi']\n",
      " ['Andi' 'Andi' 'Andi']]\n"
     ]
    }
   ],
   "source": [
    "x = np.zeros((3,3), dtype=bool)\n",
    "print(x)\n",
    "\n",
    "x = np.ones((3,3), dtype=bool)\n",
    "print(x)\n",
    "\n",
    "lain = np.full((3,3), 'Andi')\n",
    "print(lain)"
   ]
  },
  {
   "cell_type": "code",
   "execution_count": 20,
   "metadata": {},
   "outputs": [
    {
     "name": "stdout",
     "output_type": "stream",
     "text": [
      "[['Andi' 'Andi' 'Andi']\n",
      " ['Andi' 'Andi' 'Andi']\n",
      " ['Andi' 'Andi' 'Andi']]\n",
      "[['Andi', 'Andi', 'Andi'], ['Andi', 'Andi', 'Andi'], ['Andi', 'Andi', 'Andi']]\n",
      "<class 'list'>\n"
     ]
    }
   ],
   "source": [
    "lain = np.full((3,3), 'Andi')\n",
    "print(lain)\n",
    "lain_list = lain.tolist()\n",
    "print(lain_list)\n",
    "print(type(lain_list))"
   ]
  },
  {
   "cell_type": "code",
   "execution_count": 31,
   "metadata": {},
   "outputs": [
    {
     "name": "stdout",
     "output_type": "stream",
     "text": [
      "cara 1\n",
      "[[0, 1, 2, 3, 4], [5, 6, 7, 8, 9]]\n",
      "cara 2\n",
      "[[0, 1, 2, 3, 4], [5, 6, 7, 8, 9]]\n",
      "cara 3\n",
      "[[0, 1, 2, 3, 4], [5, 6, 7, 8, 9]]\n",
      "cara 4\n",
      "[[0, 1, 2, 3, 4], [5, 6, 7, 8, 9]]\n",
      "cara 5\n",
      "[[0, 1, 2, 3, 4], [5, 6, 7, 8, 9]]\n",
      "cara 6\n",
      "[[0, 1, 2, 3, 4], [5, 6, 7, 8, 9]]\n"
     ]
    }
   ],
   "source": [
    "x = [0,1,2,3,4]\n",
    "y = [5,6,7,8,9]\n",
    "# how to make z = [[0,1,2,3,4], [5,6,7,8,9]]\n",
    "\n",
    "print('cara 1')\n",
    "z = []\n",
    "z.append(x)\n",
    "z.append(y)\n",
    "print(z)\n",
    "\n",
    "print('cara 2')\n",
    "z = [x, y]\n",
    "print(z)\n",
    "\n",
    "print('cara 3')\n",
    "z = np.array(x+y).reshape(2,-1).tolist()\n",
    "print(z)\n",
    "\n",
    "print('cara 4')\n",
    "a = []\n",
    "a.extend(x)\n",
    "a.extend(y)\n",
    "z = np.array(a).reshape(2,-1).tolist()\n",
    "print(z)\n",
    "\n",
    "print('cara 5')\n",
    "xnp = np.array(x)\n",
    "ynp = np.array(y)\n",
    "z = np.concatenate([[xnp],[ynp]], axis=0).tolist()\n",
    "print(z)\n",
    "\n",
    "print('cara 6')\n",
    "z = np.vstack([xnp, ynp]).tolist()\n",
    "print(z)"
   ]
  },
  {
   "cell_type": "code",
   "execution_count": 34,
   "metadata": {
    "scrolled": true
   },
   "outputs": [
    {
     "name": "stdout",
     "output_type": "stream",
     "text": [
      "[[ 0  1  2]\n",
      " [ 3  4  5]\n",
      " [ 5  6  7]\n",
      " [ 8  9 10]]\n",
      "[[ 0  1  2]\n",
      " [ 3  4  5]\n",
      " [ 5  6  7]\n",
      " [ 8  9 10]]\n",
      "[[ 0  1  2]\n",
      " [ 3  4  5]\n",
      " [ 5  6  7]\n",
      " [ 8  9 10]]\n"
     ]
    }
   ],
   "source": [
    "a = np.arange(6).reshape(2,-1)\n",
    "b = np.array([5,6,7,8,9,10]).reshape(2,-1)\n",
    "d = np.concatenate([a,b], axis=0)\n",
    "e = np.row_stack((a,b))\n",
    "f = np.r_[a,b]\n",
    "\n",
    "print(d)\n",
    "print(e)\n",
    "print(f)"
   ]
  },
  {
   "cell_type": "code",
   "execution_count": 36,
   "metadata": {},
   "outputs": [
    {
     "name": "stdout",
     "output_type": "stream",
     "text": [
      "[ 1  2  3  4  5  6  7  8  9 10]\n",
      "[ 0  2  0  4  0  6  0  8  0 10]\n"
     ]
    }
   ],
   "source": [
    "npa = np.arange(1,11)\n",
    "print(npa)\n",
    "\n",
    "#mengubah angka ganjil jadi 0\n",
    "npa[npa%2!=0] = 0\n",
    "print(npa)"
   ]
  },
  {
   "cell_type": "code",
   "execution_count": 41,
   "metadata": {
    "scrolled": true
   },
   "outputs": [
    {
     "name": "stdout",
     "output_type": "stream",
     "text": [
      "(array([0, 1, 2, 3, 4, 5], dtype=int64),)\n",
      "[10 11 12 13 14 15]\n",
      "[10 11 12 13 14]\n",
      "[15 16 17]\n",
      "[15 16 17]\n"
     ]
    }
   ],
   "source": [
    "x = np.arange(10,20)\n",
    "print(np.where(x<16)) # menampilkan index value di bawah 16\n",
    "print(x[np.where(x<16)]) # menampilkan value yang kurang dari 16\n",
    "print(x[np.arange(5)]) # menampilkan value pada index 0-4 (arange(5))\n",
    "print(x[np.where((x>14)&(x<18))]) # and operation using ampersand\n",
    "print(x[np.logical_and(x>14, x<18)]) # and operation using logical_and function"
   ]
  },
  {
   "cell_type": "markdown",
   "metadata": {},
   "source": [
    "## Linear Algabra Determinan"
   ]
  },
  {
   "cell_type": "code",
   "execution_count": 42,
   "metadata": {},
   "outputs": [
    {
     "name": "stdout",
     "output_type": "stream",
     "text": [
      "-6.0\n"
     ]
    }
   ],
   "source": [
    "a = np.array([\n",
    "    [1,2,1],\n",
    "    [3,3,1],\n",
    "    [2,1,2]\n",
    "])\n",
    "print(np.linalg.det(a))"
   ]
  },
  {
   "cell_type": "markdown",
   "metadata": {},
   "source": [
    "## Linear Algabra Invertion"
   ]
  },
  {
   "cell_type": "code",
   "execution_count": 46,
   "metadata": {},
   "outputs": [
    {
     "name": "stdout",
     "output_type": "stream",
     "text": [
      "[[ 0.4 -0.2]\n",
      " [-0.1  0.3]]\n",
      "[[1. 0.]\n",
      " [0. 1.]]\n",
      "[[1. 0.]\n",
      " [0. 1.]]\n"
     ]
    }
   ],
   "source": [
    "z = np.array([[3,2], [1,4]])\n",
    "print(np.linalg.inv(z))\n",
    "\n",
    "# dot product\n",
    "print(z@np.linalg.inv(z))\n",
    "print(z.dot(np.linalg.inv(z)))"
   ]
  },
  {
   "cell_type": "code",
   "execution_count": 49,
   "metadata": {},
   "outputs": [
    {
     "name": "stdout",
     "output_type": "stream",
     "text": [
      "5000000015\n",
      "<class 'NoneType'>\n"
     ]
    }
   ],
   "source": [
    "def bigsum(ar):\n",
    "    a = []\n",
    "    base = 1000000000\n",
    "    for i in range(ar):\n",
    "        base += 1\n",
    "        a.append(base)\n",
    "    print(sum(a))\n",
    "\n",
    "print(type(bigsum(5)))"
   ]
  },
  {
   "cell_type": "code",
   "execution_count": 59,
   "metadata": {},
   "outputs": [
    {
     "data": {
      "text/plain": [
       "5000000015"
      ]
     },
     "execution_count": 59,
     "metadata": {},
     "output_type": "execute_result"
    }
   ],
   "source": [
    "ar = '1000000001 1000000002 1000000003 1000000004 1000000005'\n",
    "ar_split = ar.split(' ')\n",
    "new_list = []\n",
    "for a in ar_split:\n",
    "    new_list.append(int(a))\n",
    "sum(new_list)"
   ]
  },
  {
   "cell_type": "code",
   "execution_count": null,
   "metadata": {},
   "outputs": [],
   "source": []
  }
 ],
 "metadata": {
  "kernelspec": {
   "display_name": "Python 3",
   "language": "python",
   "name": "python3"
  },
  "language_info": {
   "codemirror_mode": {
    "name": "ipython",
    "version": 3
   },
   "file_extension": ".py",
   "mimetype": "text/x-python",
   "name": "python",
   "nbconvert_exporter": "python",
   "pygments_lexer": "ipython3",
   "version": "3.7.4"
  }
 },
 "nbformat": 4,
 "nbformat_minor": 2
}
